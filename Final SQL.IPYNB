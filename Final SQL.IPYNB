{
 "cells": [
  {
   "cell_type": "markdown",
   "metadata": {},
   "source": [
    "Question: 1"
   ]
  },
  {
   "cell_type": "markdown",
   "metadata": {},
   "source": [
    "## Potential Issue\n",
    "\n",
    "The query might return an empty result set if the subquery (`SELECT winner_id FROM races`) includes any null values. This is because the `NOT IN` clause will not operate as expected when it encounters null values, as comparisons with null in SQL are tricky and often lead to unintended consequences."
   ]
  },
  {
   "cell_type": "markdown",
   "metadata": {},
   "source": [
    "## Alternative Approach #1: LEFT JOIN\n",
    "```sql\n",
    "SELECT runners.*\n",
    "FROM runners\n",
    "LEFT JOIN races ON runners.id = races.winner_id\n",
    "WHERE races.winner_id IS NULL;\n",
    "```\n",
    "\n",
    "This version uses a `LEFT JOIN` to include all rows from `runners` and the matched rows from `races`. Rows from `runners` without a matching row in `races` (i.e., runners who haven't won any race) will have nulls in the columns from `races`. The `WHERE` clause filters to only those rows, effectively achieving the desired result."
   ]
  },
  {
   "cell_type": "markdown",
   "metadata": {},
   "source": [
    "## Alternative Approach #2: Filtering Nulls in Subquery\n",
    "```sql\n",
    "SELECT * FROM runners WHERE id NOT IN (SELECT winner_id FROM races WHERE winner_id IS NOT NULL);\n",
    "```\n",
    "\n",
    "By ensuring the subquery does not return nulls (`WHERE winner_id IS NOT NULL`), this alternative avoids the issue of the original query and correctly excludes runners who have won races."
   ]
  },
  {
   "cell_type": "markdown",
   "metadata": {},
   "source": [
    "Question: 2"
   ]
  },
  {
   "cell_type": "markdown",
   "metadata": {},
   "source": [
    "## Tables Creation\n",
    "```sql\n",
    "CREATE TABLE test_a(id NUMERIC);\n",
    "CREATE TABLE test_b(id NUMERIC);\n",
    "```\n",
    "\n",
    "Two tables `test_a` and `test_b` are created with a single numeric column `id`."
   ]
  },
  {
   "cell_type": "markdown",
   "metadata": {},
   "source": [
    "## Data Insertion\n",
    "```sql\n",
    "INSERT INTO test_a(id) VALUES (10), (20), (30), (40), (50);\n",
    "INSERT INTO test_b(id) VALUES (10), (30), (50);\n",
    "```\n",
    "\n",
    "Values are inserted into both tables. Some `id` values are common to both tables, while others are unique to `test_a`."
   ]
  },
  {
   "cell_type": "markdown",
   "metadata": {},
   "source": [
    "## Query to Fetch Values\n",
    "```sql\n",
    "SELECT test_a.id\n",
    "FROM test_a\n",
    "LEFT JOIN test_b ON test_a.id = test_b.id\n",
    "WHERE test_b.id IS NULL;\n",
    "```\n",
    "\n",
    "This query selects the `id` values from `test_a` that do not have a corresponding entry in `test_b`. The `LEFT JOIN` is used to include all records from `test_a` and match them against `test_b` where possible. When there is no match, `test_b.id` will be `NULL`, and these are the records we want to retrieve."
   ]
  },
  {
   "cell_type": "markdown",
   "metadata": {},
   "source": [
    "Question: 3"
   ]
  },
  {
   "cell_type": "markdown",
   "metadata": {},
   "source": [
    "## Database Tables\n",
    "\n",
    "### Users Table\n",
    "```sql\n",
    "SELECT * FROM users;\n",
    "```\n",
    "\n",
    "Contains user details."
   ]
  },
  {
   "cell_type": "markdown",
   "metadata": {},
   "source": [
    "## Database Tables\n",
    "\n",
    "### Users Table\n",
    "```sql\n",
    "SELECT * FROM users;\n",
    "```\n",
    "\n",
    "Contains user details."
   ]
  },
  {
   "cell_type": "markdown",
   "metadata": {},
   "source": [
    "## Query for Fetching Results\n",
    "```sql\n",
    "SELECT u.username, td.training_id, td.training_date, COUNT(*) as times_taken\n",
    "FROM training_details td\n",
    "JOIN users u ON td.user_id = u.user_id\n",
    "GROUP BY u.username, td.training_id, td.training_date\n",
    "HAVING COUNT(*) > 1\n",
    "ORDER BY td.training_date DESC, u.username;\n",
    "```\n",
    "\n",
    "This query retrieves users who attended the same training session multiple times on the same day, along with the training session details."
   ]
  }
 ],
 "metadata": {
  "kernelspec": {
   "display_name": "base",
   "language": "python",
   "name": "python3"
  },
  "language_info": {
   "codemirror_mode": {
    "name": "ipython",
    "version": 3
   },
   "file_extension": ".py",
   "mimetype": "text/x-python",
   "name": "python",
   "nbconvert_exporter": "python",
   "pygments_lexer": "ipython3",
   "version": "3.11.5"
  }
 },
 "nbformat": 4,
 "nbformat_minor": 2
}
