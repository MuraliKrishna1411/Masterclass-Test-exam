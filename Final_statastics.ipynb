{
 "cells": [
  {
   "cell_type": "markdown",
   "metadata": {},
   "source": [
    "Question: 1\n",
    "\n",
    " What is the meaning of six sigma in statistics?  Give proper example"
   ]
  },
  {
   "cell_type": "markdown",
   "metadata": {},
   "source": [
    "Motorola created the Six Sigma methodology and toolkit for process improvement in 1986.\n",
    "        The standard deviation, a measurement of the degree of variation or dispersion of a collection of values, is referred to as \"sigma\" in statistics. A six sigma procedure is one in which 99.99966% of potential problems are solved.\n",
    "        to generate a characteristic of a part that is statistically predicted to be error-free. This corresponds to a procedure that yields no more than 3.4 errors for every million opportunities (DPMO). Essentially, the goal of Six Sigma is to reduce variability in business and manufacturing processes and find and eliminate the sources of faults in order to improve the quality of the output of a process.\n"
   ]
  },
  {
   "cell_type": "markdown",
   "metadata": {},
   "source": [
    "Question: 2\n",
    "\n",
    "What type of data does not have a log-normal distribution or a Gaussian distribution?  Give proper example"
   ]
  },
  {
   "cell_type": "markdown",
   "metadata": {},
   "source": [
    "There are several different ways that data that does not fit a log-normal or Gaussian (normal) distribution can be detected, such as:\n",
    "\n",
    "**Multimodal or bimodal distributions:** These distributions have two or more peaks, signifying the existence of two or more groups with various means within the data.\n",
    "        \n",
    "**Skewed distributions:** Non-symmetric data with a large tail on one side of the peak as opposed to a normal distribution's centering.\n",
    "\n",
    "**Discrete distributions:** Continuous distributions, such as the normal or log-normal distributions, do not fit data that can only take on specified values, such as counts or categorical data.\n",
    "\n",
    "**Uniform distributions:** Unlike the skewed shape of a log-normal distribution or the bell-shaped curve of a normal distribution, all outcomes in a uniform distribution are equally likely."
   ]
  },
  {
   "cell_type": "markdown",
   "metadata": {},
   "source": [
    "Question: 3\n",
    "\n",
    "What is the meaning of the five-number summary in Statistics? Give proper example\n"
   ]
  },
  {
   "cell_type": "markdown",
   "metadata": {},
   "source": [
    "The five-number summary is a set of descriptive statistics that provides a quick overview of the distribution and spread\n",
    "        of a dataset. It consists of the following five points:\n",
    "\n",
    "1. **Minimum:** The smallest value in the dataset.\n",
    "2. **First quartile (Q1):** Also known as the lower quartile, it divides the bottom 25% of data from the rest.\n",
    "3. **Median (Q2):** The middle value when the data set is ordered, separating the dataset into two halves. If the dataset\n",
    "has an even number of observations, the median is the average of the two middle numbers.\n",
    "4. **Third quartile (Q3):** Also known as the upper quartile, it divides the top 25% of data from the rest.\n",
    "5. **Maximum:** The largest value in the dataset."
   ]
  },
  {
   "cell_type": "markdown",
   "metadata": {},
   "source": [
    "Question: 4\n",
    "\n",
    "What is correlation? Give an example with a dataset & graphical representation on jupyter Notebook"
   ]
  },
  {
   "cell_type": "markdown",
   "metadata": {},
   "source": [
    " Correlation is a statistical measure that expresses the extent to which two variables change together. If the variables\n",
    "        tend to increase or decrease in relation to each other, the correlation is positive; if one decreases as the other increases,\n",
    "        the correlation is negative. A correlation of 0 means no relationship between the variables. Correlation coefficients range\n",
    "        from -1 (perfect negative correlation) to +1 (perfect positive correlation)."
   ]
  }
 ],
 "metadata": {
  "language_info": {
   "name": "python"
  }
 },
 "nbformat": 4,
 "nbformat_minor": 2
}
