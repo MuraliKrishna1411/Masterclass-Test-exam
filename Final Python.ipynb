{
 "cells": [
  {
   "cell_type": "markdown",
   "metadata": {},
   "source": [
    "# Questioon 1\n",
    "You have an input dictionary given,\n",
    "\n",
    "input_dict = {\"abc\":{\"def\":{\"ghi\":{\"jkl\":{\"mno\":{\"pqr\":{\"stu\":{\"vwx\":{\"yz\":\"you are finally here !!!\"}}}}}}}}}\n",
    "\n",
    "Task:  You have to write a Python function that will take this input and print it like that,\n",
    "\n",
    "output = {\"abc\":[\"def\",\"ghi\",\"jkl\",\"mno\",\"pqr\",\"stu\",\"vwx\",\"yz\"],\n",
    " \"def\":[\"ghi\",\"jkl\",\"mno\",\"pqr\",\"stu\",\"vwx\",\"yz\"],\n",
    " \"ghi\":[\"jkl\",\"mno\",\"pqr\",\"stu\",\"vwx\",\"yz\"],\n",
    " \"jkl\":[\"mno\",\"pqr\",\"stu\",\"vwx\",\"yz\"],\n",
    " \"mno\":[\"pqr\",\"stu\",\"vwx\",\"yz\"],\n",
    " \"pqr\":[\"stu\",\"vwx\",\"yz\"],\n",
    " \"stu\":[\"vwx\",\"yz\"],\n",
    " \"vwx\":[\"yz\"],\n",
    " \"yz\":[\"you are finally here !!!\"]}"
   ]
  },
  {
   "cell_type": "code",
   "execution_count": 3,
   "metadata": {},
   "outputs": [
    {
     "data": {
      "text/plain": [
       "{'abc': ['def', 'ghi', 'jkl', 'mno', 'pqr', 'stu', 'vwx', 'yz'],\n",
       " 'def': ['ghi', 'jkl', 'mno', 'pqr', 'stu', 'vwx', 'yz'],\n",
       " 'ghi': ['jkl', 'mno', 'pqr', 'stu', 'vwx', 'yz'],\n",
       " 'jkl': ['mno', 'pqr', 'stu', 'vwx', 'yz'],\n",
       " 'mno': ['pqr', 'stu', 'vwx', 'yz'],\n",
       " 'pqr': ['stu', 'vwx', 'yz'],\n",
       " 'stu': ['vwx', 'yz'],\n",
       " 'vwx': ['yz'],\n",
       " 'yz': ['you are finally here !!!']}"
      ]
     },
     "execution_count": 3,
     "metadata": {},
     "output_type": "execute_result"
    }
   ],
   "source": [
    "def iterative_transform(input_dict):\n",
    "    # Initialize variables\n",
    "    output = {}\n",
    "    current_dict = input_dict\n",
    "    prev_keys = []\n",
    "    \n",
    "    # Iterate until we reach the final string\n",
    "    while isinstance(current_dict, dict):\n",
    "        # There should be only one key-value pair at each level\n",
    "        key, next_level = list(current_dict.items())[0]\n",
    "        prev_keys.append(key)\n",
    "        \n",
    "        # Update output for each key encountered so far, excluding the last key\n",
    "        for i in range(len(prev_keys) - 1):\n",
    "            output[prev_keys[i]] = prev_keys[i+1:]\n",
    "        \n",
    "        # Prepare for the next iteration\n",
    "        current_dict = next_level\n",
    "    \n",
    "    # Handle the final string: update the last key to map to this string\n",
    "    if prev_keys:\n",
    "        output[prev_keys[-1]] = [current_dict]\n",
    "    \n",
    "    return output\n",
    "\n",
    "input_dict = {\"abc\":{\"def\":{\"ghi\":{\"jkl\":{\"mno\":{\"pqr\":{\"stu\":{\"vwx\":{\"yz\":\"you are finally here !!!\"}}}}}}}}}\n",
    "# Transform the input dictionary using the iterative approach\n",
    "iterative_output = iterative_transform(input_dict)\n",
    "iterative_output"
   ]
  },
  {
   "cell_type": "markdown",
   "metadata": {},
   "source": [
    "2.Given an array of length ‘N’, where each element denotes the position of a stall. Now you have ‘N’ stalls and an integer ‘K’ which denotes the number of horses that are mad. To prevent the horses from hurting each other, you need to assign the horses to the stalls, such that the minimum distance between any two of them is as large as possible. Return the largest minimum distance.\n",
    "\n",
    "array: 1,2,4,8,9  &  k=3\n",
    "\n",
    "O/P: 3\n",
    "\n",
    "Explanation: 1st horse at stall 1, 2nd horse at stall 4 and 3rd horse at stall 8"
   ]
  },
  {
   "cell_type": "code",
   "execution_count": 1,
   "metadata": {},
   "outputs": [
    {
     "data": {
      "text/plain": [
       "3"
      ]
     },
     "execution_count": 1,
     "metadata": {},
     "output_type": "execute_result"
    }
   ],
   "source": [
    "\n",
    "def can_place_horses(stalls, k, distance):\n",
    "    last_position = stalls[0]\n",
    "    count = 1\n",
    "    for i in range(1, len(stalls)):\n",
    "        if stalls[i] - last_position >= distance:\n",
    "            count += 1\n",
    "            last_position = stalls[i]\n",
    "            if count == k:\n",
    "                return True\n",
    "    return False\n",
    "\n",
    "def largest_minimum_distance(stalls, k):\n",
    "    stalls.sort()\n",
    "    low = 1\n",
    "    high = stalls[-1] - stalls[0]\n",
    "    result = 0\n",
    "    while low <= high:\n",
    "        mid = (low + high) // 2\n",
    "        if can_place_horses(stalls, k, mid):\n",
    "            result = mid\n",
    "            low = mid + 1\n",
    "        else:\n",
    "            high = mid - 1\n",
    "    return result\n",
    "\n",
    "stalls = [1,2,4,8,9]\n",
    "k = 3\n",
    "largest_minimum_distance(stalls, k)"
   ]
  },
  {
   "cell_type": "markdown",
   "metadata": {},
   "source": [
    "# Question 3\n",
    "Mr. Karthiken works in a door mat manufacturing company. One day, he designed a new door mat with the following specifications:\n",
    "\n",
    "1. Mat size must be N X M. (N is an odd natural number, and M is 3 times N.)\n",
    "2. The design should have ‘WELCOME’ written in the center.\n",
    "3. The design pattern should only use |, . and – characters."
   ]
  },
  {
   "cell_type": "code",
   "execution_count": 4,
   "metadata": {},
   "outputs": [
    {
     "name": "stdout",
     "output_type": "stream",
     "text": [
      "------------.|.------------\n",
      "---------.|..|..|.---------\n",
      "------.|..|..|..|..|.------\n",
      "---.|..|..|..|..|..|..|.---\n",
      "----------WELCOME----------\n",
      "---.|..|..|..|..|..|..|.---\n",
      "------.|..|..|..|..|.------\n",
      "---------.|..|..|.---------\n",
      "------------.|.------------\n"
     ]
    }
   ],
   "source": [
    "def print_door_mat(N):\n",
    "    M = 3 * N\n",
    "    \n",
    "    # Top part\n",
    "    for i in range(1, N, 2):\n",
    "        pattern = (i * \".|.\").center(M, \"-\")\n",
    "        print(pattern)\n",
    "    \n",
    "    # Middle part with 'WELCOME'\n",
    "    welcome = \"WELCOME\".center(M, \"-\")\n",
    "    print(welcome)\n",
    "    \n",
    "    # Bottom part (mirror image of top part)\n",
    "    for i in range(N-2, 0, -2):\n",
    "        pattern = (i * \".|.\").center(M, \"-\")\n",
    "        print(pattern)\n",
    "\n",
    "N = 9\n",
    "print_door_mat(N)"
   ]
  },
  {
   "cell_type": "code",
   "execution_count": null,
   "metadata": {},
   "outputs": [],
   "source": []
  }
 ],
 "metadata": {
  "kernelspec": {
   "display_name": "base",
   "language": "python",
   "name": "python3"
  },
  "language_info": {
   "codemirror_mode": {
    "name": "ipython",
    "version": 3
   },
   "file_extension": ".py",
   "mimetype": "text/x-python",
   "name": "python",
   "nbconvert_exporter": "python",
   "pygments_lexer": "ipython3",
   "version": "3.11.5"
  }
 },
 "nbformat": 4,
 "nbformat_minor": 2
}
